{
  "cells": [
    {
      "cell_type": "markdown",
      "metadata": {
        "id": "view-in-github",
        "colab_type": "text"
      },
      "source": [
        "<a href=\"https://colab.research.google.com/github/JhanellaCoronado/CPE009A-OOP/blob/main/copy_of_jupyter_notebook_oop_template.ipynb\" target=\"_parent\"><img src=\"https://colab.research.google.com/assets/colab-badge.svg\" alt=\"Open In Colab\"/></a>"
      ]
    },
    {
      "cell_type": "markdown",
      "metadata": {
        "id": "xUKw6dtiGo-r"
      },
      "source": [
        "---\n",
        "<center>\n",
        "\n",
        "**Technological Institute of the Philippines**<br>\n",
        "Computer Engineering Department<br>\n",
        "Quezon city Campus</center>\n",
        "\n",
        "---\n",
        "<center><h4> Hands-on Activity 2.1 Supplementary - Literals and Variables </h4></center>\n",
        "\n",
        "---\n",
        "<center>\n",
        "\n",
        "| Course: CPE 009 | Program: BSCpE |\n",
        "|--- | --- |\n",
        "| **Course Title**: Object Oriented Programming | **Date Performed:** 4/6/24 |\n",
        "| **Section**: CPE12S6  | **Date Submitted:** 4/6/24 |\n",
        "| **Student Name**: Coronado, Jhanella Rose V.  | **Instructor's Name:** Ma'am. Sayo |\n",
        "</center>"
      ]
    },
    {
      "cell_type": "markdown",
      "source": [
        "**Objective/s of the activity:**\n",
        "\n",
        "1.   Implement literals and variables in a python program.\n",
        "\n",
        "**Intended Learning Outcome:**\n",
        "\n",
        "1.  Write a simple program implementing literals and variables.\n",
        "2. Use comments and identify keywords from identifiers created by users.\n",
        "\n",
        "\n",
        "**Discussion:**\n",
        "\n",
        "The use of variables, constants, and literals is crucial when it comes to handling data in programs written in Python. Variables serve as containers for values that could change while a program is running. Variables can hold a variety of data types, including strings, floats, integers, and more intricate structures like dictionaries or lists, when they are assigned with the '=' operator. Constants are named in uppercase and are used to denote values that don't change while a program runs. They can be used to store configuration or mathematical settings, but they aren't expressly supported in Python. Conversely, literals express fixed values directly within the code without requiring extra processing. They include string literals (like \"hello\"), boolean literals (like \"True,\" \"False\"), and integer literals (like 42, 3.14). These components work together to create the basis of Python programming.\n",
        "\n",
        "**Materials and Equipment:**\n",
        "\n",
        "1. Computer: A system that can run an Integrated Development Environment (IDE) or a Python interpreter, allowing you to write, run, and debug Python programs.\n",
        "\n",
        "2.  Google Colab Notebook: The cloud-based Python environment allows you to create and use Python notebooks. These notebooks, like Jupyter notebooks, allow you to write and run Python code through a browser interface.\n",
        "\n",
        "**Procedure:**\n",
        "\n",
        "1. A teacher wants to calculate the final grade in a CpE course and want to write it in a python program. The following are the requirements:\n",
        "2. PRELIM GRADE = 50% Prelim Exam + 50% Prelim Class Standing (CS)\n",
        "3. PRELIM CS = 50% Hands-on activity + 30% Quiz + 20% Assignment\n",
        "4. MIDTERM GRADE = 1/3 of PRELIM GRADE + 2/3 of (50% Midterm Exam + 50% Midterm Class Standing (CS))\n",
        "5. MIDTERM CS = 50% Hands-on activity + 30% Quiz + 20% Assignment\n",
        "6. FINAL GRADE = 1/3 of MIDTERM GRADE + 2/3 of (50% Final Exam + 50% Final Class Standing (CS))\n",
        "7. FINAL CS = 50% Hands-on activity + 30% Quiz + 20% Assignment\n",
        "8. HOAs, Quizzes and Assignments are inputted as average of all submissions and are out of 100%.\n",
        "9. Major exams are inputted out of 100%.\n",
        "10. Show the codes that successfully run the program.\n",
        "\n"
      ],
      "metadata": {
        "id": "gNe4D_l5JGiM"
      }
    },
    {
      "cell_type": "code",
      "source": [
        "def compute_prelim_cs(hands_on_activity, quiz, assignment): #prelim cs information\n",
        "    \"\"\"Compute Prelim Class Standing.\"\"\"\n",
        "    prelim_cs = 0.5 * hands_on_activity + 0.3 * quiz + 0.2 * assignment\n",
        "    return prelim_cs\n",
        "\n",
        "def compute_midterm_cs(hands_on_activity, quiz, assignment): #midterms cs information\n",
        "    \"\"\"Compute Midterm Class Standing.\"\"\"\n",
        "    midterm_cs = 0.5 * hands_on_activity + 0.3 * quiz + 0.2 * assignment\n",
        "    return midterm_cs\n",
        "\n",
        "def compute_final_cs(hands_on_activity, quiz, assignment): #final cs information\n",
        "    \"\"\"Compute Final Class Standing.\"\"\"\n",
        "    final_cs = 0.5 * hands_on_activity + 0.3 * quiz + 0.2 * assignment\n",
        "    return final_cs\n",
        "\n",
        "def compute_grade(exam, class_standing): #computation of grades information\n",
        "    \"\"\"Compute grade using weighted average.\"\"\"\n",
        "    return 0.5 * exam + 0.5 * class_standing\n",
        "\n",
        "def compute_final_grade(prelim_exam, prelim_cs, midterm_exam, midterm_cs, final_exam, final_cs): #final grades information\n",
        "    \"\"\"Compute final grade using specified formula.\"\"\"\n",
        "    prelim_grade = compute_grade(prelim_exam, prelim_cs)\n",
        "    midterm_grade = compute_grade(midterm_exam, (1/3) * prelim_grade + (2/3) * midterm_cs)\n",
        "    final_grade = compute_grade(final_exam, (1/3) * midterm_grade + (2/3) * final_cs)\n",
        "    return final_grade\n",
        "\n",
        "# Input grades\n",
        "hands_on_activity = float(input(\"Average Hands-on activity score: \"))\n",
        "quiz = float(input(\"Average Quiz score: \"))\n",
        "assignment = float(input(\"Average Assignment score: \"))\n",
        "prelim_exam = float(input(\"Enter Prelim Exam score: \"))\n",
        "midterm_exam = float(input(\"Enter Midterm Exam score: \"))\n",
        "final_exam = float(input(\"Enter Final Exam score: \"))\n",
        "\n",
        "# Processing\n",
        "prelim_cs = compute_prelim_cs(hands_on_activity, quiz, assignment)\n",
        "midterm_cs = compute_midterm_cs(hands_on_activity, quiz, assignment)\n",
        "final_cs = compute_final_cs(hands_on_activity, quiz, assignment)\n",
        "final_grade = compute_final_grade(prelim_exam, prelim_cs, midterm_exam, midterm_cs, final_exam, final_cs)\n",
        "\n",
        "# Output of grades\n",
        "print(\"Final Grade:\", final_grade)"
      ],
      "metadata": {
        "id": "13mH_CASmAWC"
      },
      "execution_count": null,
      "outputs": []
    },
    {
      "cell_type": "markdown",
      "source": [
        "**Supplementary Activity**:\n",
        "\n",
        "1. Test 3 students from the program you created.\n",
        "2. The program should show the name of the student, the PRELIM, MIDTERM and FINAL grades.\n",
        "3. Convert the final grade into the T.I.P.s numerical grade. Please refer to the grading system."
      ],
      "metadata": {
        "id": "bV8A708BKFuC"
      }
    },
    {
      "cell_type": "code",
      "source": [
        "def calculate_grade(exam, hoa, quiz, assignment): #calculation of grades information\n",
        "    return 0.5 * exam + 0.5 * (0.5 * hoa + 0.3 * quiz + 0.2 * assignment)\n",
        "\n",
        "def convert_to_tip(final_grade): #tip grades information\n",
        "    if final_grade >= 92:\n",
        "        return \"1.0\"\n",
        "    elif final_grade >= 88:\n",
        "        return \"1.25\"\n",
        "    elif final_grade >= 84:\n",
        "        return \"1.50\"\n",
        "    elif final_grade >= 80:\n",
        "        return \"1.75\"\n",
        "    elif final_grade >= 75:\n",
        "        return \"2.0\"\n",
        "    elif final_grade >= 70:\n",
        "        return \"2.25\"\n",
        "    elif final_grade >= 65:\n",
        "        return \"2.5\"\n",
        "    elif final_grade >= 60:\n",
        "        return \"2.75\"\n",
        "    else:\n",
        "        return \"5.0\"\n",
        "\n",
        "# Test grades of three students\n",
        "students = [\n",
        "    {\"name\": \"Jhanella\", \"prelim_exam\": 83, \"midterm_exam\": 86, \"final_exam\": 87, \"hoa\": 98, \"quiz\": 99, \"assignment\": 98},\n",
        "    {\"name\": \"Benjamin\", \"prelim_exam\": 81, \"midterm_exam\": 83, \"final_exam\": 82, \"hoa\": 99, \"quiz\": 99, \"assignment\": 99},\n",
        "    {\"name\": \"Jalene\", \"prelim_exam\": 75, \"midterm_exam\": 95, \"final_exam\": 98, \"hoa\": 99, \"quiz\": 80, \"assignment\": 98}\n",
        "]\n",
        "\n",
        "# Calculate and display grades of three students\n",
        "for student in students:\n",
        "    prelim_grade = calculate_grade(student[\"prelim_exam\"], student[\"hoa\"], student[\"quiz\"], student[\"assignment\"])\n",
        "    midterm_grade = calculate_grade(student[\"midterm_exam\"], student[\"hoa\"], student[\"quiz\"], student[\"assignment\"])\n",
        "    final_grade = calculate_grade(student[\"final_exam\"], student[\"hoa\"], student[\"quiz\"], student[\"assignment\"])\n",
        "    tip_grade = convert_to_tip(final_grade)\n",
        "    print(f\"Name: {student['name']}\")\n",
        "    print(f\"Prelim Grade: {prelim_grade:.2f}\")\n",
        "    print(f\"Midterm Grade: {midterm_grade:.2f}\")\n",
        "    print(f\"Final Grade: {final_grade:.2f}\")\n",
        "    print(f\"T.I.P. Grade: {tip_grade}\\n\")\n"
      ],
      "metadata": {
        "id": "yL1ha_Hbl22f",
        "outputId": "d41cf5b8-a465-4de2-e4d9-3c2143b77ff8",
        "colab": {
          "base_uri": "https://localhost:8080/"
        }
      },
      "execution_count": null,
      "outputs": [
        {
          "output_type": "stream",
          "name": "stdout",
          "text": [
            "Name: Jhanella\n",
            "Prelim Grade: 90.65\n",
            "Midterm Grade: 92.15\n",
            "Final Grade: 92.65\n",
            "T.I.P. Grade: 1.0\n",
            "\n",
            "Name: Benjamin\n",
            "Prelim Grade: 90.00\n",
            "Midterm Grade: 91.00\n",
            "Final Grade: 90.50\n",
            "T.I.P. Grade: 1.25\n",
            "\n",
            "Name: Jalene\n",
            "Prelim Grade: 84.05\n",
            "Midterm Grade: 94.05\n",
            "Final Grade: 95.55\n",
            "T.I.P. Grade: 1.0\n",
            "\n"
          ]
        }
      ]
    },
    {
      "cell_type": "markdown",
      "source": [
        "\n",
        "**Questions**:\n",
        "1.   Supplementary Activity:\n",
        "\n",
        "Name: Jhanella\n",
        "Prelim Grade: 90.65\n",
        "Midterm Grade: 92.15\n",
        "Final Grade: 92.65\n",
        "T.I.P. Grade: 1.0\n",
        "\n",
        "Name: Benjamin\n",
        "Prelim Grade: 90.00\n",
        "Midterm Grade: 91.00\n",
        "Final Grade: 90.50\n",
        "T.I.P. Grade: 1.25\n",
        "\n",
        "Name: Jalene\n",
        "Prelim Grade: 84.05\n",
        "Midterm Grade: 94.05\n",
        "Final Grade: 95.55\n",
        "T.I.P. Grade: 1.0\n",
        "\n",
        "\n"
      ],
      "metadata": {
        "id": "0CYvOMNPKNEq"
      }
    },
    {
      "cell_type": "markdown",
      "source": [
        "**Conclusion**:\n",
        "\n",
        "In conclusion, the goal of developing Python software to calculate students' final grades in a CpE course and convert them into numerical grades for T.I.P. has been met. To establish final marks, the software successfully asks information from a wide range of assessment components, including practical exercises, tests, assignments, and exam results. It employs the provided formulas to calculate final marks and class rankings precisely, ensuring that the grading plan is maintained. This app demonstrates how Python programming can help improve educational processes through automation and correctness. It serves as an effective tool for automating grading methods.\n",
        "\n"
      ],
      "metadata": {
        "id": "e0yyWDMsqRD9"
      }
    }
  ],
  "metadata": {
    "kernelspec": {
      "display_name": "Python 3",
      "language": "python",
      "name": "python3"
    },
    "language_info": {
      "codemirror_mode": {
        "name": "ipython",
        "version": 3
      },
      "file_extension": ".py",
      "mimetype": "text/x-python",
      "name": "python",
      "nbconvert_exporter": "python",
      "pygments_lexer": "ipython3",
      "version": "3.7.3"
    },
    "colab": {
      "provenance": [],
      "toc_visible": true,
      "include_colab_link": true
    }
  },
  "nbformat": 4,
  "nbformat_minor": 0
}