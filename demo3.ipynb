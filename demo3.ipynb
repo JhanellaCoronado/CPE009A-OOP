{
  "nbformat": 4,
  "nbformat_minor": 0,
  "metadata": {
    "colab": {
      "provenance": [],
      "authorship_tag": "ABX9TyOyCsFu6TWqCkUW+Jp6EqlH",
      "include_colab_link": true
    },
    "kernelspec": {
      "name": "python3",
      "display_name": "Python 3"
    },
    "language_info": {
      "name": "python"
    }
  },
  "cells": [
    {
      "cell_type": "markdown",
      "metadata": {
        "id": "view-in-github",
        "colab_type": "text"
      },
      "source": [
        "<a href=\"https://colab.research.google.com/github/JhanellaCoronado/CPE009A-OOP/blob/main/demo3.ipynb\" target=\"_parent\"><img src=\"https://colab.research.google.com/assets/colab-badge.svg\" alt=\"Open In Colab\"/></a>"
      ]
    },
    {
      "cell_type": "markdown",
      "source": [
        "Conditional statement in python"
      ],
      "metadata": {
        "id": "MNievnUMNaWr"
      }
    },
    {
      "cell_type": "markdown",
      "source": [
        "1. If Statement  "
      ],
      "metadata": {
        "id": "MhIs0yKzN6Dz"
      }
    },
    {
      "cell_type": "code",
      "source": [
        "a=12\n",
        "b=100\n",
        "if b>a:\n",
        "  print(\"b is greater than a\")\n",
        "\n"
      ],
      "metadata": {
        "colab": {
          "base_uri": "https://localhost:8080/"
        },
        "id": "Q1DaVMcuNgU0",
        "outputId": "d98c5284-8f5c-42e8-8be3-d7a02b6c1c0c"
      },
      "execution_count": 3,
      "outputs": [
        {
          "output_type": "stream",
          "name": "stdout",
          "text": [
            "b is greater than a\n"
          ]
        }
      ]
    },
    {
      "cell_type": "markdown",
      "source": [
        "2. Elif Statement\n"
      ],
      "metadata": {
        "id": "X38rO0_zOcVy"
      }
    },
    {
      "cell_type": "code",
      "source": [
        "a=12\n",
        "b=12\n",
        "if b>a:\n",
        "  print(\"b is greater than a\")\n",
        "elif a==b:\n",
        "    print(\"a and b are equal\")"
      ],
      "metadata": {
        "colab": {
          "base_uri": "https://localhost:8080/"
        },
        "id": "f-yrBEh4Oe3i",
        "outputId": "7501b3cc-c755-4b15-ce1e-16992c09d032"
      },
      "execution_count": 6,
      "outputs": [
        {
          "output_type": "stream",
          "name": "stdout",
          "text": [
            "a and b are equal\n"
          ]
        }
      ]
    },
    {
      "cell_type": "markdown",
      "source": [
        "3. Else Statement\n"
      ],
      "metadata": {
        "id": "ytFdLokiPq2S"
      }
    },
    {
      "cell_type": "code",
      "source": [
        "a=200\n",
        "b=33\n",
        "if b>a:\n",
        "   print(\"b is greater than a\")\n",
        "elif a==b:\n",
        "   print(\"a and b are equal\")\n",
        "else:\n",
        "   print(\"a is greater than b\")\n"
      ],
      "metadata": {
        "colab": {
          "base_uri": "https://localhost:8080/"
        },
        "id": "DssSpgUvPray",
        "outputId": "47014047-cad4-4d5c-ff0a-91a6bbf3140a"
      },
      "execution_count": 7,
      "outputs": [
        {
          "output_type": "stream",
          "name": "stdout",
          "text": [
            "a is greater than b\n"
          ]
        }
      ]
    },
    {
      "cell_type": "markdown",
      "source": [
        "4. Short Hand if Statement"
      ],
      "metadata": {
        "id": "-4IsPjJ0SMES"
      }
    },
    {
      "cell_type": "code",
      "source": [
        "\n",
        "if a>b:print(\"a is greater than b\")"
      ],
      "metadata": {
        "colab": {
          "base_uri": "https://localhost:8080/"
        },
        "id": "NjOLC0p2SjWZ",
        "outputId": "502a03ca-82da-4e7d-ea13-38b8b5832f9b"
      },
      "execution_count": 8,
      "outputs": [
        {
          "output_type": "stream",
          "name": "stdout",
          "text": [
            "a is greater than b\n"
          ]
        }
      ]
    },
    {
      "cell_type": "markdown",
      "source": [
        "5. Short Hand if..Else Statement"
      ],
      "metadata": {
        "id": "ch46T2joTEAB"
      }
    },
    {
      "cell_type": "code",
      "source": [
        "a=2\n",
        "b=330\n",
        "print(\"A\") if a>b else print (\"B\")"
      ],
      "metadata": {
        "colab": {
          "base_uri": "https://localhost:8080/"
        },
        "id": "TCPZbFUETLO6",
        "outputId": "325ccb8e-c296-4b6a-d954-73f0554356f4"
      },
      "execution_count": 9,
      "outputs": [
        {
          "output_type": "stream",
          "name": "stdout",
          "text": [
            "B\n"
          ]
        }
      ]
    },
    {
      "cell_type": "markdown",
      "source": [
        "6. And-both conditions are true"
      ],
      "metadata": {
        "id": "fn2innjCTuoB"
      }
    },
    {
      "cell_type": "code",
      "source": [
        "a=200\n",
        "b=33\n",
        "c= 500\n",
        "if a>b and c>a:\n",
        "  print(\"Both conditions are True\")"
      ],
      "metadata": {
        "colab": {
          "base_uri": "https://localhost:8080/"
        },
        "id": "K-pomXTGTypg",
        "outputId": "9ee87a05-ded2-45e6-95b1-025321b5e8ab"
      },
      "execution_count": 10,
      "outputs": [
        {
          "output_type": "stream",
          "name": "stdout",
          "text": [
            "Both conditions are True\n"
          ]
        }
      ]
    },
    {
      "cell_type": "markdown",
      "source": [
        "7. Or-at least one of the condition is true"
      ],
      "metadata": {
        "id": "ERlZdD4CUclw"
      }
    },
    {
      "cell_type": "code",
      "source": [
        "a=200\n",
        "b=33\n",
        "c=500\n",
        "if a>b or a>c:\n",
        "  print(\"At least one of the conditions is true\")"
      ],
      "metadata": {
        "colab": {
          "base_uri": "https://localhost:8080/"
        },
        "id": "p7SP1r26Ul7w",
        "outputId": "87780598-9645-49a7-eb4a-bca0cbff3b26"
      },
      "execution_count": 12,
      "outputs": [
        {
          "output_type": "stream",
          "name": "stdout",
          "text": [
            "At least one of the conditions is true\n"
          ]
        }
      ]
    },
    {
      "cell_type": "markdown",
      "source": [
        "8. Nested If"
      ],
      "metadata": {
        "id": "F8DRspMrVAj_"
      }
    },
    {
      "cell_type": "code",
      "source": [
        "x=41\n",
        "\n",
        "if x>10:\n",
        "  print(\"Above ten,\")\n",
        "  if x>20:\n",
        "    print(\"and also above 20!\")\n",
        "  else:\n",
        "    print(\"but not above 20.\")\n",
        "\n"
      ],
      "metadata": {
        "colab": {
          "base_uri": "https://localhost:8080/"
        },
        "id": "rLMJO311VDGQ",
        "outputId": "95ce37fc-cd44-4ac4-e2d9-8ccdfb59c6fc"
      },
      "execution_count": 15,
      "outputs": [
        {
          "output_type": "stream",
          "name": "stdout",
          "text": [
            "Above ten,\n",
            "and also above 20!\n"
          ]
        }
      ]
    },
    {
      "cell_type": "code",
      "source": [
        "x=41\n",
        "if x>10:\n",
        "  print(\"Above 10\")\n",
        "  if x>20:\n",
        "    print(\"and also above 20\")\n",
        "    if x>30:\n",
        "      print(\"and also above 30\")\n",
        "      if x>40:\n",
        "        print(\"and also above 40\")\n",
        "        if x>50:\n",
        "          print(\"and also above 50\")\n",
        "        else:\n",
        "         print(\"but not above 50\")\n",
        "      else:\n",
        "       print(\"but not above 40\")\n",
        "    else:\n",
        "     print(\"but not above 30\")\n",
        "  else:\n",
        "   print(\"but not above 20\")\n",
        "\n"
      ],
      "metadata": {
        "colab": {
          "base_uri": "https://localhost:8080/"
        },
        "id": "I4dokKFcWOQQ",
        "outputId": "40e1c3a5-76dc-4913-a2c9-0e3a3053e2ec"
      },
      "execution_count": 33,
      "outputs": [
        {
          "output_type": "stream",
          "name": "stdout",
          "text": [
            "Above 10\n",
            "and also above 20\n",
            "and also above 30\n",
            "and also above 40\n",
            "but not above 50\n"
          ]
        }
      ]
    },
    {
      "cell_type": "markdown",
      "source": [
        "Example 1: Write a program that determines if the input age is qualified to ote or not. The qualifying age is 18 years old and above.\n"
      ],
      "metadata": {
        "id": "J-B91Zz-djEV"
      }
    },
    {
      "cell_type": "code",
      "source": [
        "age= int(input(\"Enter your Age: \"))\n",
        "\n",
        "if age >=18:\n",
        "  print(\"Qualfied for Voting!\")\n",
        "else:\n",
        "  print(\"Not Qualified for Voting!\")"
      ],
      "metadata": {
        "colab": {
          "base_uri": "https://localhost:8080/"
        },
        "id": "5yZW_WfYcalQ",
        "outputId": "59bc666b-9a1d-410b-fa00-bab66ad313e6"
      },
      "execution_count": 34,
      "outputs": [
        {
          "output_type": "stream",
          "name": "stdout",
          "text": [
            "Enter your Age: 17\n",
            "Not Qualified for Voting!\n"
          ]
        }
      ]
    },
    {
      "cell_type": "markdown",
      "source": [
        "Example 2: Write a program that determines if the input number is POSITIVE, NEGATIVE, or ZERO"
      ],
      "metadata": {
        "id": "5GbwOiV7fBdG"
      }
    },
    {
      "cell_type": "code",
      "source": [
        "num= int(input(\"Enter a Number: \"))\n",
        "\n",
        "if num > 0:\n",
        "  print(\"Number is Positive\")\n",
        "elif num < 0:\n",
        "  print(\"Number is Negative\")\n",
        "else:\n",
        "  print(\"Number is Zero\")"
      ],
      "metadata": {
        "colab": {
          "base_uri": "https://localhost:8080/"
        },
        "id": "rg9dToAjfE4G",
        "outputId": "111a4ef6-37cd-47fa-f804-2aed92f1ecef"
      },
      "execution_count": 37,
      "outputs": [
        {
          "output_type": "stream",
          "name": "stdout",
          "text": [
            "Enter a Number: -1\n",
            "Number is Negative\n"
          ]
        }
      ]
    },
    {
      "cell_type": "markdown",
      "source": [
        "Example 3: Write a program to determine if the grades are:\n",
        "\n",
        "if:\n",
        "\n",
        "grade >= 70, \"Passed\"\n",
        "grade is 65 to 69, \"Remedial\"\n",
        "grade >64 or below, \"Failed\"\n",
        "note: if grade is a negative number, it will not be accepted"
      ],
      "metadata": {
        "id": "F1BamzDOf3PN"
      }
    },
    {
      "cell_type": "code",
      "source": [
        "grade=int(input (\"Enter your grade: \"))\n",
        "\n",
        "if grade >= 70 and grade<= 100:\n",
        "  print(\"PASSED\")\n",
        "elif grade >= 65 and grade <=69:\n",
        "  print(\"REMEDIAL\")\n",
        "elif grade > 0 and grade <65:\n",
        "  print(\"FAILED\")\n",
        "else:\n",
        "  print(\"INVALID GRADE\")"
      ],
      "metadata": {
        "colab": {
          "base_uri": "https://localhost:8080/"
        },
        "id": "i9DOu65ggvuD",
        "outputId": "d198e0bd-35d9-4005-82ee-472f1c61f60d"
      },
      "execution_count": 38,
      "outputs": [
        {
          "output_type": "stream",
          "name": "stdout",
          "text": [
            "Enter your grade: 51\n",
            "FAILED\n"
          ]
        }
      ]
    }
  ]
}