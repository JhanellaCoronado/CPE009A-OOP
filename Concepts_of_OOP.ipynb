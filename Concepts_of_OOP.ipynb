{
  "nbformat": 4,
  "nbformat_minor": 0,
  "metadata": {
    "colab": {
      "provenance": [],
      "authorship_tag": "ABX9TyPBWwDdRoUHe29Lltz35OLJ",
      "include_colab_link": true
    },
    "kernelspec": {
      "name": "python3",
      "display_name": "Python 3"
    },
    "language_info": {
      "name": "python"
    }
  },
  "cells": [
    {
      "cell_type": "markdown",
      "metadata": {
        "id": "view-in-github",
        "colab_type": "text"
      },
      "source": [
        "<a href=\"https://colab.research.google.com/github/JhanellaCoronado/CPE009A-OOP/blob/main/Concepts_of_OOP.ipynb\" target=\"_parent\"><img src=\"https://colab.research.google.com/assets/colab-badge.svg\" alt=\"Open In Colab\"/></a>"
      ]
    },
    {
      "cell_type": "markdown",
      "source": [
        "Class"
      ],
      "metadata": {
        "id": "vZt-u-ZihKe9"
      }
    },
    {
      "cell_type": "code",
      "execution_count": 2,
      "metadata": {
        "colab": {
          "base_uri": "https://localhost:8080/"
        },
        "id": "RQp8sxW6ZdkT",
        "outputId": "6e531167-9541-433a-8db8-aa04bca3c363"
      },
      "outputs": [
        {
          "output_type": "stream",
          "name": "stdout",
          "text": [
            "<__main__.Car object at 0x7efa5462cd60>\n"
          ]
        }
      ],
      "source": [
        "class Car:\n",
        "  pass\n",
        "\n",
        "obj1 = Car()\n",
        "print(obj1)"
      ]
    },
    {
      "cell_type": "markdown",
      "source": [
        "Class Constructor and Methods"
      ],
      "metadata": {
        "id": "tpHtfQTDi4Qt"
      }
    },
    {
      "cell_type": "code",
      "source": [
        "class Car: #class constructor\n",
        "  def __init__(self,name,color,mileage):\n",
        "    self.name = name #car attributes\n",
        "    self.color = color\n",
        "    self.mileage = mileage\n",
        "obj1 = Car(\"BNW\", \"Red\", 1000) #object name\n",
        "obj2 = Car(\"Toyota\", \"Blue\", 1200)\n",
        "\n",
        "print(obj1.name)\n",
        "print(obj1.color)\n",
        "print(obj1.mileage)\n",
        "\n",
        "print(obj2.mileage)\n"
      ],
      "metadata": {
        "colab": {
          "base_uri": "https://localhost:8080/"
        },
        "id": "KXrHBBMEi6kt",
        "outputId": "012d3865-0dc1-4fc8-ab33-68e4a6467d90"
      },
      "execution_count": 12,
      "outputs": [
        {
          "output_type": "stream",
          "name": "stdout",
          "text": [
            "BNW\n",
            "Red\n",
            "1000\n",
            "1200\n"
          ]
        }
      ]
    },
    {
      "cell_type": "code",
      "source": [],
      "metadata": {
        "id": "FuA5mJbroxiZ"
      },
      "execution_count": null,
      "outputs": []
    },
    {
      "cell_type": "markdown",
      "source": [
        "Application 1 - Write a Python program that prints out your student information with the following attributes: Name, Age, Course, and Section. Use classname student()"
      ],
      "metadata": {
        "id": "B0mUH2JKmru8"
      }
    },
    {
      "cell_type": "code",
      "source": [
        "class namestudent: #class constructor\n",
        "  def __init__(self,name,age,course,section):\n",
        "    self.name = name #car attributes\n",
        "    self.age = age\n",
        "    self.course = course\n",
        "    self.section = section\n",
        "\n",
        "obj1 = namestudent(\"Jhanella Rose V. Coronado\", \"18 y.o\", \"Computer Engineering\", \"CPE12S6\")\n",
        "\n",
        "print(\"The student's Name is\", obj1.name)\n",
        "print(\"The student's Age is\", obj1.age)\n",
        "print(\"The student's Course is\", obj1.course)\n",
        "print(\"The student's Section is\", obj1.section)\n",
        "\n",
        "\n"
      ],
      "metadata": {
        "colab": {
          "base_uri": "https://localhost:8080/"
        },
        "id": "dTJ3TvXwj8li",
        "outputId": "95ddf748-005d-4488-e0d8-b1c818ba34ef"
      },
      "execution_count": 15,
      "outputs": [
        {
          "output_type": "stream",
          "name": "stdout",
          "text": [
            "The student's Name is Jhanella Rose V. Coronado\n",
            "The student's Age is 18 y.o\n",
            "The student's Course is Computer Engineering\n",
            "The student's Section is CPE12S6\n"
          ]
        }
      ]
    }
  ]
}