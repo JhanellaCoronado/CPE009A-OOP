{
  "nbformat": 4,
  "nbformat_minor": 0,
  "metadata": {
    "colab": {
      "provenance": [],
      "authorship_tag": "ABX9TyO41eiT9st/4JtXMHYKf67s",
      "include_colab_link": true
    },
    "kernelspec": {
      "name": "python3",
      "display_name": "Python 3"
    },
    "language_info": {
      "name": "python"
    }
  },
  "cells": [
    {
      "cell_type": "markdown",
      "metadata": {
        "id": "view-in-github",
        "colab_type": "text"
      },
      "source": [
        "<a href=\"https://colab.research.google.com/github/JhanellaCoronado/CPE009A-OOP/blob/main/Exercise_1.ipynb\" target=\"_parent\"><img src=\"https://colab.research.google.com/assets/colab-badge.svg\" alt=\"Open In Colab\"/></a>"
      ]
    },
    {
      "cell_type": "markdown",
      "source": [
        "Algorithm to get the perimeter and area of a rectangle"
      ],
      "metadata": {
        "id": "kllrbBvsUYc_"
      }
    },
    {
      "cell_type": "code",
      "source": [
        "length=int(input(\"Enter the length of the rectangle: \"))\n",
        "width=int(input(\"Enter the width of the rectangle: \"))\n",
        "perimeter=2*(length + width)\n",
        "area= length * width\n",
        "print(\"Are of the rectangle: \", area)\n",
        "print(\"Perimeter of the rectangle: \", perimeter)"
      ],
      "metadata": {
        "colab": {
          "base_uri": "https://localhost:8080/"
        },
        "id": "rJugccDGUd5N",
        "outputId": "2ead0edc-b1b0-425c-f854-a01ee43f7736"
      },
      "execution_count": 2,
      "outputs": [
        {
          "output_type": "stream",
          "name": "stdout",
          "text": [
            "Enter the length of the rectangle: 5\n",
            "Enter the width of the rectangle: 10\n",
            "Are of the rectangle:  50\n",
            "Perimeter of the rectangle:  30\n"
          ]
        }
      ]
    }
  ]
}