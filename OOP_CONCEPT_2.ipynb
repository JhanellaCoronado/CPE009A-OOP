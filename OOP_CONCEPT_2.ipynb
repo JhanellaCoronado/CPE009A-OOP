{
  "nbformat": 4,
  "nbformat_minor": 0,
  "metadata": {
    "colab": {
      "provenance": [],
      "authorship_tag": "ABX9TyPX6OD8Jk25EDelHCs+CFpY",
      "include_colab_link": true
    },
    "kernelspec": {
      "name": "python3",
      "display_name": "Python 3"
    },
    "language_info": {
      "name": "python"
    }
  },
  "cells": [
    {
      "cell_type": "markdown",
      "metadata": {
        "id": "view-in-github",
        "colab_type": "text"
      },
      "source": [
        "<a href=\"https://colab.research.google.com/github/JhanellaCoronado/CPE009A-OOP/blob/main/OOP_CONCEPT_2.ipynb\" target=\"_parent\"><img src=\"https://colab.research.google.com/assets/colab-badge.svg\" alt=\"Open In Colab\"/></a>"
      ]
    },
    {
      "cell_type": "markdown",
      "source": [
        "Classes with Multiple Objects"
      ],
      "metadata": {
        "id": "LcV2pnIcb5LW"
      }
    },
    {
      "cell_type": "code",
      "source": [
        "class Birds:\n",
        "  def __init__(self, bird_name):\n",
        "    self.bird_name = bird_name\n",
        "  def flying_birds(self):\n",
        "    print(f\"{self.bird_name} flies above clouds\")\n",
        "  def non_flying_birds(self):\n",
        "    print(f\"{self.bird_name} is the national bird of Philippines\")\n",
        "\n",
        "vulture = Birds(\"Griffon Vulture\")\n",
        "crane = Birds(\"Common Crane\")\n",
        "emu = Birds(\"Emu\")\n",
        "vulture.flying_birds()\n",
        "crane.flying_birds()\n",
        "emu.non_flying_birds()"
      ],
      "metadata": {
        "colab": {
          "base_uri": "https://localhost:8080/"
        },
        "id": "Qmz1thmVb7gv",
        "outputId": "e71a5e1c-c238-4a92-fdb1-99efa363017e"
      },
      "execution_count": 6,
      "outputs": [
        {
          "output_type": "stream",
          "name": "stdout",
          "text": [
            "Griffon Vulture flies above clouds\n",
            "Common Crane flies above clouds\n",
            "Emu is the national bird of Philippines\n"
          ]
        }
      ]
    },
    {
      "cell_type": "markdown",
      "source": [
        "Encapsulation"
      ],
      "metadata": {
        "id": "VzbAr5MIdFTh"
      }
    },
    {
      "cell_type": "code",
      "source": [
        "class foo:\n",
        "  def __init__(self, a, b):\n",
        "    self.a = a\n",
        "    self.b = b\n",
        "  def add(self):\n",
        "    return self.a + self.b\n",
        "foo_object = foo(3,4)\n",
        "foo_object.add()"
      ],
      "metadata": {
        "colab": {
          "base_uri": "https://localhost:8080/"
        },
        "id": "B-Op60ZodIAD",
        "outputId": "1ab3c459-4915-4ec4-84ba-3ac4c4792dba"
      },
      "execution_count": 7,
      "outputs": [
        {
          "output_type": "execute_result",
          "data": {
            "text/plain": [
              "7"
            ]
          },
          "metadata": {},
          "execution_count": 7
        }
      ]
    },
    {
      "cell_type": "code",
      "source": [
        "class Counter:\n",
        "  def __init__(self):\n",
        "    self.current = 0\n",
        "\n",
        "  def increment(self):\n",
        "    self.current += 1\n",
        "\n",
        "  def value(self):\n",
        "    return self.current\n",
        "\n",
        "  def reset(self):\n",
        "    self.current = 0\n",
        "\n",
        "counter = Counter()\n",
        "counter.increment()\n",
        "counter.increment()\n",
        "counter.increment()\n",
        "print(counter.value())"
      ],
      "metadata": {
        "colab": {
          "base_uri": "https://localhost:8080/"
        },
        "id": "DMFiISgHddF7",
        "outputId": "d28cd11a-a776-4676-f090-6d1bfc74c2af"
      },
      "execution_count": 15,
      "outputs": [
        {
          "output_type": "stream",
          "name": "stdout",
          "text": [
            "3\n"
          ]
        }
      ]
    },
    {
      "cell_type": "markdown",
      "source": [
        "Encapsulation using Private Attributes"
      ],
      "metadata": {
        "id": "NbU83aBdfnj5"
      }
    },
    {
      "cell_type": "code",
      "source": [
        "class RegularPolygon:\n",
        "  def __init__(self,side):\n",
        "    self.side = side\n",
        "class Square(RegularPolygon):#inherits the properties of superclass RegularPolygon\n",
        "  def area(self): #defines the method/function to get the area of a square\n",
        "    return self.side * self.side\n",
        "class EquilateralTriangle(RegularPolygon):\n",
        "  def area(self): #defines the method/function to get the area of a equilateral triangle\n",
        "    return self.side * self.side * 0.433\n",
        "\n",
        "square = Square(4) #creates and object name square\n",
        "print(square.area()) #print the instance of the attribute of Square class\n",
        "equiltriangle = EquilateralTriangle(4) #creates and object name equilateral\n",
        "print(equiltriangle.area()) #print the instance of the attribute of equilateral class\n"
      ],
      "metadata": {
        "colab": {
          "base_uri": "https://localhost:8080/"
        },
        "id": "-ASvl4ZGfjHi",
        "outputId": "48169520-4790-4b7e-8b85-f42b2d48b1af"
      },
      "execution_count": 20,
      "outputs": [
        {
          "output_type": "stream",
          "name": "stdout",
          "text": [
            "16\n",
            "6.928\n"
          ]
        }
      ]
    },
    {
      "cell_type": "markdown",
      "source": [
        "\n",
        "Encapsulation using Private Attributes\n",
        "\n"
      ],
      "metadata": {
        "id": "AnK1ZKfjd-SY"
      }
    },
    {
      "cell_type": "code",
      "source": [
        "class RegularPolygon: #creates the super class name Regular Polygon\n",
        "  def __init__(self,side):\n",
        "    self.__side = side\n",
        "  def area(self): #defines the method/function to get the area of square\n",
        "    print(self.__side*self.__side)\n",
        "class Square(RegularPolygon):#inherits the properties of superclass RegularPolygon\n",
        "  pass\n",
        "\n",
        "square = Square(6)\n",
        "square.area()\n"
      ],
      "metadata": {
        "colab": {
          "base_uri": "https://localhost:8080/"
        },
        "id": "c0B6B3CdsKPS",
        "outputId": "ad0fc353-2a47-4d52-ed3c-1515ba600e75"
      },
      "execution_count": 30,
      "outputs": [
        {
          "output_type": "stream",
          "name": "stdout",
          "text": [
            "36\n"
          ]
        }
      ]
    },
    {
      "cell_type": "markdown",
      "source": [
        "Application 1"
      ],
      "metadata": {
        "id": "WcMiYmXBuKKx"
      }
    },
    {
      "cell_type": "code",
      "source": [
        "class Person: #creates the super class name Person\n",
        "    def __init__(self, std1, std2, std3, pre, mid, fin):\n",
        "        self._std1 = std1\n",
        "        self._std2 = std2\n",
        "        self._std3 = std3\n",
        "        self._pre = pre\n",
        "        self._mid = mid\n",
        "        self._fin = fin\n",
        "\n",
        "    def _average_grade(self, grade1, grade2, grade3):  #defines the method how to compute for grades\n",
        "        return (grade1 + grade2 + grade3) / 3\n",
        "\n",
        "    def get_average_grades(self): #defines the method for getting the average on each term\n",
        "        pre_avg = self._average_grade(self._pre[0], self._pre[1], self._pre[2])\n",
        "        mid_avg = self._average_grade(self._mid[0], self._mid[1], self._mid[2])\n",
        "        fin_avg = self._average_grade(self._fin[0], self._fin[1], self._fin[2])\n",
        "        return pre_avg, mid_avg, fin_avg\n",
        "\n",
        "    def display_grades(self):\n",
        "        print(\"Student 1 :\", self._std1, self.get_average_grades()[0]) #print the instance of the average of computed grades from stdnt 1\n",
        "        print(\"Student 2 :\", self._std2, self.get_average_grades()[1]) #print the instance of the average of computed grades from stdnt 2\n",
        "        print(\"Student 3 :\", self._std3, self.get_average_grades()[2]) #print the instance of the average of computed grades from stdnt 3\n",
        "\n",
        "person = Person(\"Student 1\", \"Student 2\", \"Student 3\", [89, 89, 90], [91, 92, 93], [88, 89, 95])  #creates and object name person\n",
        "person.display_grades()"
      ],
      "metadata": {
        "colab": {
          "base_uri": "https://localhost:8080/"
        },
        "id": "deEgDBGkuL1a",
        "outputId": "148cd1c1-3766-41f6-dbab-7f6514132087"
      },
      "execution_count": 52,
      "outputs": [
        {
          "output_type": "stream",
          "name": "stdout",
          "text": [
            "Student 1 : Student 1 89.33333333333333\n",
            "Student 2 : Student 2 92.0\n",
            "Student 3 : Student 3 90.66666666666667\n"
          ]
        }
      ]
    }
  ]
}