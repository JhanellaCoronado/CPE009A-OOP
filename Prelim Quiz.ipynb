{
  "nbformat": 4,
  "nbformat_minor": 0,
  "metadata": {
    "colab": {
      "provenance": [],
      "authorship_tag": "ABX9TyM7m4FcBHwYBxYkvfH0lZ5e",
      "include_colab_link": true
    },
    "kernelspec": {
      "name": "python3",
      "display_name": "Python 3"
    },
    "language_info": {
      "name": "python"
    }
  },
  "cells": [
    {
      "cell_type": "markdown",
      "metadata": {
        "id": "view-in-github",
        "colab_type": "text"
      },
      "source": [
        "<a href=\"https://colab.research.google.com/github/JhanellaCoronado/CPE009A-OOP/blob/main/Prelim%20Quiz.ipynb\" target=\"_parent\"><img src=\"https://colab.research.google.com/assets/colab-badge.svg\" alt=\"Open In Colab\"/></a>"
      ]
    },
    {
      "cell_type": "markdown",
      "source": [
        "Prelim Quiz"
      ],
      "metadata": {
        "id": "lQbRC2Q4Qz1o"
      }
    },
    {
      "cell_type": "code",
      "source": [
        "n=20\n",
        "totalnumbers=n\n",
        "sum=0\n",
        "\n",
        "while n>=0:\n",
        "  sum+=n\n",
        "  n-=1\n",
        "\n",
        "average=sum/totalnumbers\n",
        "\n",
        "print(\"Sum of is:\",sum)\n",
        "print(\"Average of is:\",average)\n"
      ],
      "metadata": {
        "colab": {
          "base_uri": "https://localhost:8080/"
        },
        "id": "F5bTJAB7YxJU",
        "outputId": "071a3437-fce0-4304-8338-f9d2b4df9d41"
      },
      "execution_count": 11,
      "outputs": [
        {
          "output_type": "stream",
          "name": "stdout",
          "text": [
            "Sum of is: 210\n",
            "Average of is: 10.5\n"
          ]
        }
      ]
    }
  ]
}