{
  "nbformat": 4,
  "nbformat_minor": 0,
  "metadata": {
    "colab": {
      "provenance": [],
      "authorship_tag": "ABX9TyOu0uzmjUIHRZXBhT3it9XT",
      "include_colab_link": true
    },
    "kernelspec": {
      "name": "python3",
      "display_name": "Python 3"
    },
    "language_info": {
      "name": "python"
    }
  },
  "cells": [
    {
      "cell_type": "markdown",
      "metadata": {
        "id": "view-in-github",
        "colab_type": "text"
      },
      "source": [
        "<a href=\"https://colab.research.google.com/github/JhanellaCoronado/CPE009A-OOP/blob/main/Coronado_Jhanella_Rose_Prelim_Exam.ipynb\" target=\"_parent\"><img src=\"https://colab.research.google.com/assets/colab-badge.svg\" alt=\"Open In Colab\"/></a>"
      ]
    },
    {
      "cell_type": "markdown",
      "source": [
        "Prelim Exam"
      ],
      "metadata": {
        "id": "dMng051fvGng"
      }
    },
    {
      "cell_type": "code",
      "source": [
        "fullname = input(\"Enter your fullname:\")\n",
        "age = input(\"Enter your age:\" )\n",
        "print(\"Fullname and age: \" + fullname + \" \" + \"and\"+ \" \"+ age)"
      ],
      "metadata": {
        "colab": {
          "base_uri": "https://localhost:8080/"
        },
        "id": "qNUZVcUSvHde",
        "outputId": "9d8900cb-88fc-4a7f-9717-2260ff5f430a"
      },
      "execution_count": 7,
      "outputs": [
        {
          "output_type": "stream",
          "name": "stdout",
          "text": [
            "Enter your fullname:jhanella coronado\n",
            "Enter your age:18\n",
            "Fullname and age: jhanella coronado and 18\n"
          ]
        }
      ]
    }
  ]
}