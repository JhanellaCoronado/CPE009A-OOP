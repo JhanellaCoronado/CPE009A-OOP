{
  "nbformat": 4,
  "nbformat_minor": 0,
  "metadata": {
    "colab": {
      "provenance": [],
      "authorship_tag": "ABX9TyOk+a0rAgzzcOOKQD51Gxr5",
      "include_colab_link": true
    },
    "kernelspec": {
      "name": "python3",
      "display_name": "Python 3"
    },
    "language_info": {
      "name": "python"
    }
  },
  "cells": [
    {
      "cell_type": "markdown",
      "metadata": {
        "id": "view-in-github",
        "colab_type": "text"
      },
      "source": [
        "<a href=\"https://colab.research.google.com/github/JhanellaCoronado/CPE009A-OOP/blob/main/OOP_Concept_2_Application_2.ipynb\" target=\"_parent\"><img src=\"https://colab.research.google.com/assets/colab-badge.svg\" alt=\"Open In Colab\"/></a>"
      ]
    },
    {
      "cell_type": "markdown",
      "source": [
        "create a class name Shapes (5 shapes)\n",
        "\n",
        "Attribute Sides\n",
        "Create a function/method that displays the no. of sides of the shape\n",
        "Apply inheritance, encapsulation, and polymorphism"
      ],
      "metadata": {
        "id": "zIYuj6Qvd32W"
      }
    },
    {
      "cell_type": "code",
      "source": [
        "class Shapes:\n",
        "  def __init__(self,name,sides):\n",
        "    self.__name = name\n",
        "    self.__sides = sides\n",
        "\n",
        "  def numOfsides(self):\n",
        "    print(f\"{self.__name}'s sides are {self.__sides}\")\n",
        "\n",
        "class Shape1(Shapes):\n",
        "  pass\n",
        "class Shape2(Shapes):\n",
        "  pass\n",
        "class Shape3(Shapes):\n",
        "  pass\n",
        "class Shape4(Shapes):\n",
        "  pass\n",
        "class Shape5(Shapes):\n",
        "  pass\n",
        "\n",
        "shape1 = Shape1(\"Trapezoid\",4)\n",
        "shape2 = Shape2(\"Octagon\",8)\n",
        "shape3 = Shape3(\"Rhombus\",4)\n",
        "shape4 = Shape4(\"Decagon\",10)\n",
        "shape5 = Shape5(\"Heptagon\",7)\n",
        "\n",
        "shape1.numOfsides()\n",
        "shape2.numOfsides()\n",
        "shape3.numOfsides()\n",
        "shape4.numOfsides()\n",
        "shape5.numOfsides()\n"
      ],
      "metadata": {
        "colab": {
          "base_uri": "https://localhost:8080/"
        },
        "id": "O0r6q_VBxe2H",
        "outputId": "dccd4ffa-c1ee-404e-c522-a3df1659636d"
      },
      "execution_count": 5,
      "outputs": [
        {
          "output_type": "stream",
          "name": "stdout",
          "text": [
            "Trapezoid's sides are 4\n",
            "Octagon's sides are 8\n",
            "Rhombus's sides are 4\n",
            "Decagon's sides are 10\n",
            "Heptagon's sides are 7\n"
          ]
        }
      ]
    }
  ]
}