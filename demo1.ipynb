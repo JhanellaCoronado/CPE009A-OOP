{
  "nbformat": 4,
  "nbformat_minor": 0,
  "metadata": {
    "colab": {
      "provenance": [],
      "authorship_tag": "ABX9TyMvzNEg5+ZMDNcg8nSZIVWM",
      "include_colab_link": true
    },
    "kernelspec": {
      "name": "python3",
      "display_name": "Python 3"
    },
    "language_info": {
      "name": "python"
    }
  },
  "cells": [
    {
      "cell_type": "markdown",
      "metadata": {
        "id": "view-in-github",
        "colab_type": "text"
      },
      "source": [
        "<a href=\"https://colab.research.google.com/github/JhanellaCoronado/CPE009A-OOP/blob/main/demo1.ipynb\" target=\"_parent\"><img src=\"https://colab.research.google.com/assets/colab-badge.svg\" alt=\"Open In Colab\"/></a>"
      ]
    },
    {
      "cell_type": "markdown",
      "source": [
        "Python Indentation"
      ],
      "metadata": {
        "id": "JURpy4wQKIhc"
      }
    },
    {
      "cell_type": "code",
      "execution_count": 12,
      "metadata": {
        "colab": {
          "base_uri": "https://localhost:8080/"
        },
        "id": "XOSc5ALuHHqH",
        "outputId": "7b2a2066-c23c-4daa-800d-50a1c6e4df59"
      },
      "outputs": [
        {
          "output_type": "stream",
          "name": "stdout",
          "text": [
            "Five is greater than two\n"
          ]
        }
      ],
      "source": [
        "if 5>2:\n",
        " print(\"Five is greater than two\")"
      ]
    },
    {
      "cell_type": "markdown",
      "source": [
        "Python Comments\n"
      ],
      "metadata": {
        "id": "1Pzr0dX7J2Aa"
      }
    },
    {
      "cell_type": "code",
      "source": [
        "if 5>2:\n",
        " print(\"Five is greater than two\") #comparison of numbers 5 and 2"
      ],
      "metadata": {
        "colab": {
          "base_uri": "https://localhost:8080/"
        },
        "id": "hvI1rQ9RJ-pC",
        "outputId": "6976cde0-72ed-43b6-9b15-b686cb557484"
      },
      "execution_count": 13,
      "outputs": [
        {
          "output_type": "stream",
          "name": "stdout",
          "text": [
            "Five is greater than two\n"
          ]
        }
      ]
    },
    {
      "cell_type": "markdown",
      "source": [
        "Python Variable\n",
        "\n"
      ],
      "metadata": {
        "id": "uJIS1GmzHxH6"
      }
    },
    {
      "cell_type": "code",
      "source": [
        "x=1 #this is a single variable with a value\n",
        "a, b=0,-1\n",
        "\n",
        "print(a)\n",
        "print(b)\n",
        "print(x)\n",
        "b=\"Sally\"\n",
        "\n",
        "print(b)"
      ],
      "metadata": {
        "colab": {
          "base_uri": "https://localhost:8080/"
        },
        "id": "4ktDpi9OHw_6",
        "outputId": "002c90b0-8b8f-4031-9499-61ec27241aed"
      },
      "execution_count": 17,
      "outputs": [
        {
          "output_type": "stream",
          "name": "stdout",
          "text": [
            "0\n",
            "-1\n",
            "1\n",
            "Sally\n"
          ]
        }
      ]
    },
    {
      "cell_type": "markdown",
      "source": [
        "Python Casting"
      ],
      "metadata": {
        "id": "y5lVXpO0Nb_Q"
      }
    },
    {
      "cell_type": "code",
      "source": [
        "b=\"sally\" #This is a type of string\n",
        "b=int(4)\n",
        "print(b)\n",
        "\n",
        "b=float(4)\n",
        "print(b)\n",
        "\n"
      ],
      "metadata": {
        "colab": {
          "base_uri": "https://localhost:8080/"
        },
        "id": "p7ILpdc0NkSC",
        "outputId": "2182e280-438e-46a3-9be5-d766811bebe9"
      },
      "execution_count": 18,
      "outputs": [
        {
          "output_type": "stream",
          "name": "stdout",
          "text": [
            "4\n",
            "4.0\n"
          ]
        }
      ]
    },
    {
      "cell_type": "markdown",
      "source": [
        "Type()Function"
      ],
      "metadata": {
        "id": "JVkaOnRlOdEw"
      }
    },
    {
      "cell_type": "code",
      "source": [
        "x=5\n",
        "y=\"john\"\n",
        "print(type(x))\n",
        "print(type(y))\n"
      ],
      "metadata": {
        "colab": {
          "base_uri": "https://localhost:8080/"
        },
        "id": "8ckdVJJUOd2w",
        "outputId": "8aeeca0c-55a3-4a05-9dc6-d46631bd2b97"
      },
      "execution_count": 20,
      "outputs": [
        {
          "output_type": "stream",
          "name": "stdout",
          "text": [
            "<class 'int'>\n",
            "<class 'str'>\n"
          ]
        }
      ]
    },
    {
      "cell_type": "markdown",
      "source": [
        "Double quotes or Single quotes"
      ],
      "metadata": {
        "id": "fmFIC6YYPNyA"
      }
    },
    {
      "cell_type": "code",
      "source": [
        "y=\"john\"\n",
        "print(y)\n",
        "y='john'\n",
        "print(y)"
      ],
      "metadata": {
        "colab": {
          "base_uri": "https://localhost:8080/"
        },
        "id": "kw8dKftHPWbz",
        "outputId": "d8e77f63-c704-484c-f9e8-85fcd4b6839c"
      },
      "execution_count": 21,
      "outputs": [
        {
          "output_type": "stream",
          "name": "stdout",
          "text": [
            "john\n",
            "john\n"
          ]
        }
      ]
    },
    {
      "cell_type": "markdown",
      "source": [
        "Case Sensitive"
      ],
      "metadata": {
        "id": "--e0_nn-PydB"
      }
    },
    {
      "cell_type": "code",
      "source": [
        "a = 4\n",
        "A= \"Sally\"\n",
        "#A will not overwrite a\n"
      ],
      "metadata": {
        "id": "bQ2NRYnmPy3_"
      },
      "execution_count": 27,
      "outputs": []
    },
    {
      "cell_type": "markdown",
      "source": [
        "Multiple Variables"
      ],
      "metadata": {
        "id": "jAmfju4tQMCH"
      }
    },
    {
      "cell_type": "code",
      "source": [
        "x,y,z=\"one\",\"two\",\"three\"\n",
        "print(x)\n",
        "print(y)\n",
        "print(z)"
      ],
      "metadata": {
        "colab": {
          "base_uri": "https://localhost:8080/"
        },
        "id": "2VRVii6hQMbh",
        "outputId": "9a8f9169-9c46-4bc4-a8a6-c54f2adcfd44"
      },
      "execution_count": 24,
      "outputs": [
        {
          "output_type": "stream",
          "name": "stdout",
          "text": [
            "one\n",
            "two\n",
            "three\n"
          ]
        }
      ]
    },
    {
      "cell_type": "markdown",
      "source": [
        "One Value to Multiple Variable"
      ],
      "metadata": {
        "id": "ZDZtbraHQ0Bg"
      }
    },
    {
      "cell_type": "code",
      "source": [
        "x=y=z=\"four\"\n",
        "print(x)\n",
        "print(y)\n",
        "print(z)\n"
      ],
      "metadata": {
        "colab": {
          "base_uri": "https://localhost:8080/"
        },
        "id": "U8WM6vWfQ0on",
        "outputId": "92889420-afe0-4917-a30c-6415fdabbbb2"
      },
      "execution_count": 28,
      "outputs": [
        {
          "output_type": "stream",
          "name": "stdout",
          "text": [
            "four\n",
            "four\n",
            "four\n"
          ]
        }
      ]
    },
    {
      "cell_type": "markdown",
      "source": [
        "Output Variable"
      ],
      "metadata": {
        "id": "mT8mKxwJRFq3"
      }
    },
    {
      "cell_type": "code",
      "source": [
        "x=\"enjoying\"\n",
        "print(\"Python programming is \" + x)"
      ],
      "metadata": {
        "colab": {
          "base_uri": "https://localhost:8080/"
        },
        "id": "sHjiNQBERG8f",
        "outputId": "6def4b27-a64b-4829-9062-d11bf07cd886"
      },
      "execution_count": 32,
      "outputs": [
        {
          "output_type": "stream",
          "name": "stdout",
          "text": [
            "Python programming is enjoying\n"
          ]
        }
      ]
    },
    {
      "cell_type": "markdown",
      "source": [
        "Output Variable other way\n",
        "\n",
        "\n"
      ],
      "metadata": {
        "id": "qKBZ26gKRt1P"
      }
    },
    {
      "cell_type": "code",
      "source": [
        "x=\"Python is \"\n",
        "y=\"enjoying\"\n",
        "z=x+y\n",
        "print(z)"
      ],
      "metadata": {
        "colab": {
          "base_uri": "https://localhost:8080/"
        },
        "id": "ZRLseIAiRuxn",
        "outputId": "1983c26f-44b1-4f56-caf1-2d6420b46f16"
      },
      "execution_count": 35,
      "outputs": [
        {
          "output_type": "stream",
          "name": "stdout",
          "text": [
            "Python is enjoying\n"
          ]
        }
      ]
    },
    {
      "cell_type": "markdown",
      "source": [
        "Arithmetic Operations"
      ],
      "metadata": {
        "id": "R92iUlALUlD2"
      }
    },
    {
      "cell_type": "code",
      "source": [
        "x=5\n",
        "y=3\n",
        "print(x+y)\n",
        "\n",
        "x=5\n",
        "y=3\n",
        "sum=x+y\n",
        "sum"
      ],
      "metadata": {
        "colab": {
          "base_uri": "https://localhost:8080/"
        },
        "id": "AJ33dz-2UoWV",
        "outputId": "893aa19a-efd7-4b5a-c948-4e48b68a37bb"
      },
      "execution_count": 36,
      "outputs": [
        {
          "output_type": "stream",
          "name": "stdout",
          "text": [
            "8\n"
          ]
        },
        {
          "output_type": "execute_result",
          "data": {
            "text/plain": [
              "8"
            ]
          },
          "metadata": {},
          "execution_count": 36
        }
      ]
    },
    {
      "cell_type": "markdown",
      "source": [
        "Assignment Operators"
      ],
      "metadata": {
        "id": "eTXjA3JYVy42"
      }
    },
    {
      "cell_type": "code",
      "source": [
        "a,b,c=0,-1,6\n",
        "c%=3\n",
        "c"
      ],
      "metadata": {
        "colab": {
          "base_uri": "https://localhost:8080/"
        },
        "id": "td_vjFjwV3iv",
        "outputId": "d26f734c-e57a-447a-88ae-a2fc58c32c42"
      },
      "execution_count": 37,
      "outputs": [
        {
          "output_type": "execute_result",
          "data": {
            "text/plain": [
              "0"
            ]
          },
          "metadata": {},
          "execution_count": 37
        }
      ]
    },
    {
      "cell_type": "markdown",
      "source": [
        "Comparison Operators\n"
      ],
      "metadata": {
        "id": "R2w9PBo8Wc9l"
      }
    },
    {
      "cell_type": "code",
      "source": [
        "x=1\n",
        "y=1\n",
        "x==y"
      ],
      "metadata": {
        "colab": {
          "base_uri": "https://localhost:8080/"
        },
        "id": "B47ZHe5EWjxG",
        "outputId": "a208c69c-a3e4-4b53-b9f1-a242b83c0bdb"
      },
      "execution_count": 38,
      "outputs": [
        {
          "output_type": "execute_result",
          "data": {
            "text/plain": [
              "True"
            ]
          },
          "metadata": {},
          "execution_count": 38
        }
      ]
    },
    {
      "cell_type": "markdown",
      "source": [
        "Logical Operators"
      ],
      "metadata": {
        "id": "bWUQOkPNW158"
      }
    },
    {
      "cell_type": "code",
      "source": [
        "x=1\n",
        "x<5 and x<10"
      ],
      "metadata": {
        "colab": {
          "base_uri": "https://localhost:8080/"
        },
        "id": "iGFEig9aW2ZF",
        "outputId": "78a2365f-fdc2-4bd7-9e8b-879bab2aaf04"
      },
      "execution_count": 43,
      "outputs": [
        {
          "output_type": "execute_result",
          "data": {
            "text/plain": [
              "True"
            ]
          },
          "metadata": {},
          "execution_count": 43
        }
      ]
    },
    {
      "cell_type": "markdown",
      "source": [
        "Identity Operators"
      ],
      "metadata": {
        "id": "jTnv4LjNXdNl"
      }
    },
    {
      "cell_type": "code",
      "source": [
        "x=1\n",
        "y=1\n",
        "x is y"
      ],
      "metadata": {
        "colab": {
          "base_uri": "https://localhost:8080/"
        },
        "id": "CzGATIh9XhpV",
        "outputId": "20d52159-b118-4198-9fb5-e790f2618e27"
      },
      "execution_count": 44,
      "outputs": [
        {
          "output_type": "execute_result",
          "data": {
            "text/plain": [
              "True"
            ]
          },
          "metadata": {},
          "execution_count": 44
        }
      ]
    },
    {
      "cell_type": "code",
      "source": [
        "a,b,c=0,-1,5\n",
        "a is c"
      ],
      "metadata": {
        "colab": {
          "base_uri": "https://localhost:8080/"
        },
        "id": "6GyE-cxBXn2N",
        "outputId": "e2afdb05-3dd7-4284-cbfb-8ac45bbded29"
      },
      "execution_count": 47,
      "outputs": [
        {
          "output_type": "execute_result",
          "data": {
            "text/plain": [
              "False"
            ]
          },
          "metadata": {},
          "execution_count": 47
        }
      ]
    },
    {
      "cell_type": "markdown",
      "source": [
        "Bitwise Operators"
      ],
      "metadata": {
        "id": "7wjO5K4SX1B0"
      }
    },
    {
      "cell_type": "code",
      "source": [
        "1^2"
      ],
      "metadata": {
        "colab": {
          "base_uri": "https://localhost:8080/"
        },
        "id": "bQ4mT4JeX1jE",
        "outputId": "eb1548d4-c909-4d03-e46a-7e99b5bb0fe5"
      },
      "execution_count": 48,
      "outputs": [
        {
          "output_type": "execute_result",
          "data": {
            "text/plain": [
              "3"
            ]
          },
          "metadata": {},
          "execution_count": 48
        }
      ]
    }
  ]
}