{
  "nbformat": 4,
  "nbformat_minor": 0,
  "metadata": {
    "colab": {
      "provenance": [],
      "authorship_tag": "ABX9TyPaJxPbSgtxJEFnn2aUd8IQ",
      "include_colab_link": true
    },
    "kernelspec": {
      "name": "python3",
      "display_name": "Python 3"
    },
    "language_info": {
      "name": "python"
    }
  },
  "cells": [
    {
      "cell_type": "markdown",
      "metadata": {
        "id": "view-in-github",
        "colab_type": "text"
      },
      "source": [
        "<a href=\"https://colab.research.google.com/github/JhanellaCoronado/CPE009A-OOP/blob/main/demo1.ipynb\" target=\"_parent\"><img src=\"https://colab.research.google.com/assets/colab-badge.svg\" alt=\"Open In Colab\"/></a>"
      ]
    },
    {
      "cell_type": "markdown",
      "source": [
        "Python Indentation"
      ],
      "metadata": {
        "id": "JURpy4wQKIhc"
      }
    },
    {
      "cell_type": "code",
      "execution_count": 12,
      "metadata": {
        "colab": {
          "base_uri": "https://localhost:8080/"
        },
        "id": "XOSc5ALuHHqH",
        "outputId": "7b2a2066-c23c-4daa-800d-50a1c6e4df59"
      },
      "outputs": [
        {
          "output_type": "stream",
          "name": "stdout",
          "text": [
            "Five is greater than two\n"
          ]
        }
      ],
      "source": [
        "if 5>2:\n",
        " print(\"Five is greater than two\")"
      ]
    },
    {
      "cell_type": "markdown",
      "source": [
        "Python Comments\n"
      ],
      "metadata": {
        "id": "1Pzr0dX7J2Aa"
      }
    },
    {
      "cell_type": "code",
      "source": [
        "if 5>2:\n",
        " print(\"Five is greater than two\") #comparison of numbers 5 and 2"
      ],
      "metadata": {
        "colab": {
          "base_uri": "https://localhost:8080/"
        },
        "id": "hvI1rQ9RJ-pC",
        "outputId": "6976cde0-72ed-43b6-9b15-b686cb557484"
      },
      "execution_count": 13,
      "outputs": [
        {
          "output_type": "stream",
          "name": "stdout",
          "text": [
            "Five is greater than two\n"
          ]
        }
      ]
    },
    {
      "cell_type": "markdown",
      "source": [
        "Python Variable\n",
        "\n"
      ],
      "metadata": {
        "id": "uJIS1GmzHxH6"
      }
    },
    {
      "cell_type": "code",
      "source": [
        "x=1 #this is a single variable with a value\n",
        "a, b=0,-1\n",
        "\n",
        "print(a)\n",
        "print(b)\n",
        "print(x)\n",
        "b=\"Sally\"\n",
        "\n",
        "print(b)"
      ],
      "metadata": {
        "colab": {
          "base_uri": "https://localhost:8080/"
        },
        "id": "4ktDpi9OHw_6",
        "outputId": "002c90b0-8b8f-4031-9499-61ec27241aed"
      },
      "execution_count": 17,
      "outputs": [
        {
          "output_type": "stream",
          "name": "stdout",
          "text": [
            "0\n",
            "-1\n",
            "1\n",
            "Sally\n"
          ]
        }
      ]
    },
    {
      "cell_type": "markdown",
      "source": [
        "Python Casting"
      ],
      "metadata": {
        "id": "y5lVXpO0Nb_Q"
      }
    },
    {
      "cell_type": "code",
      "source": [
        "b=\"sally\" #This is a type of string\n",
        "b=int(4)\n",
        "print(b)\n",
        "\n",
        "b=float(4)\n",
        "print(b)\n",
        "\n"
      ],
      "metadata": {
        "colab": {
          "base_uri": "https://localhost:8080/"
        },
        "id": "p7ILpdc0NkSC",
        "outputId": "2182e280-438e-46a3-9be5-d766811bebe9"
      },
      "execution_count": 18,
      "outputs": [
        {
          "output_type": "stream",
          "name": "stdout",
          "text": [
            "4\n",
            "4.0\n"
          ]
        }
      ]
    },
    {
      "cell_type": "markdown",
      "source": [
        "Type()Function"
      ],
      "metadata": {
        "id": "JVkaOnRlOdEw"
      }
    },
    {
      "cell_type": "code",
      "source": [
        "x=5\n",
        "y=\"john\"\n",
        "print(type(x))\n",
        "print(type(y))\n"
      ],
      "metadata": {
        "colab": {
          "base_uri": "https://localhost:8080/"
        },
        "id": "8ckdVJJUOd2w",
        "outputId": "8aeeca0c-55a3-4a05-9dc6-d46631bd2b97"
      },
      "execution_count": 20,
      "outputs": [
        {
          "output_type": "stream",
          "name": "stdout",
          "text": [
            "<class 'int'>\n",
            "<class 'str'>\n"
          ]
        }
      ]
    },
    {
      "cell_type": "markdown",
      "source": [
        "Double quotes or Single quotes"
      ],
      "metadata": {
        "id": "fmFIC6YYPNyA"
      }
    },
    {
      "cell_type": "code",
      "source": [
        "y=\"john\"\n",
        "print(y)\n",
        "y='john'\n",
        "print(y)"
      ],
      "metadata": {
        "colab": {
          "base_uri": "https://localhost:8080/"
        },
        "id": "kw8dKftHPWbz",
        "outputId": "d8e77f63-c704-484c-f9e8-85fcd4b6839c"
      },
      "execution_count": 21,
      "outputs": [
        {
          "output_type": "stream",
          "name": "stdout",
          "text": [
            "john\n",
            "john\n"
          ]
        }
      ]
    },
    {
      "cell_type": "markdown",
      "source": [
        "Case Sensitive"
      ],
      "metadata": {
        "id": "--e0_nn-PydB"
      }
    },
    {
      "cell_type": "code",
      "source": [
        "a = 4\n",
        "A= \"Sally\"\n",
        "#A will not overwrite a\n"
      ],
      "metadata": {
        "id": "bQ2NRYnmPy3_"
      },
      "execution_count": 27,
      "outputs": []
    },
    {
      "cell_type": "markdown",
      "source": [
        "Multiple Variables"
      ],
      "metadata": {
        "id": "jAmfju4tQMCH"
      }
    },
    {
      "cell_type": "code",
      "source": [
        "x,y,z=\"one\",\"two\",\"three\"\n",
        "print(x)\n",
        "print(y)\n",
        "print(z)"
      ],
      "metadata": {
        "colab": {
          "base_uri": "https://localhost:8080/"
        },
        "id": "2VRVii6hQMbh",
        "outputId": "9a8f9169-9c46-4bc4-a8a6-c54f2adcfd44"
      },
      "execution_count": 24,
      "outputs": [
        {
          "output_type": "stream",
          "name": "stdout",
          "text": [
            "one\n",
            "two\n",
            "three\n"
          ]
        }
      ]
    },
    {
      "cell_type": "markdown",
      "source": [
        "One Value to Multiple Variable"
      ],
      "metadata": {
        "id": "ZDZtbraHQ0Bg"
      }
    },
    {
      "cell_type": "code",
      "source": [
        "x=y=z=\"four\"\n",
        "print(x)\n",
        "print(y)\n",
        "print(z)\n"
      ],
      "metadata": {
        "colab": {
          "base_uri": "https://localhost:8080/"
        },
        "id": "U8WM6vWfQ0on",
        "outputId": "92889420-afe0-4917-a30c-6415fdabbbb2"
      },
      "execution_count": 28,
      "outputs": [
        {
          "output_type": "stream",
          "name": "stdout",
          "text": [
            "four\n",
            "four\n",
            "four\n"
          ]
        }
      ]
    },
    {
      "cell_type": "markdown",
      "source": [
        "Output Variable"
      ],
      "metadata": {
        "id": "mT8mKxwJRFq3"
      }
    },
    {
      "cell_type": "code",
      "source": [
        "x=\"enjoying\"\n",
        "print(\"Python programming is \" + x)"
      ],
      "metadata": {
        "colab": {
          "base_uri": "https://localhost:8080/"
        },
        "id": "sHjiNQBERG8f",
        "outputId": "6def4b27-a64b-4829-9062-d11bf07cd886"
      },
      "execution_count": 32,
      "outputs": [
        {
          "output_type": "stream",
          "name": "stdout",
          "text": [
            "Python programming is enjoying\n"
          ]
        }
      ]
    },
    {
      "cell_type": "markdown",
      "source": [
        "Output Variable other way\n",
        "\n",
        "\n"
      ],
      "metadata": {
        "id": "qKBZ26gKRt1P"
      }
    },
    {
      "cell_type": "code",
      "source": [
        "x=\"Python is \"\n",
        "y=\"enjoying\"\n",
        "z=x+y\n",
        "print(z)"
      ],
      "metadata": {
        "colab": {
          "base_uri": "https://localhost:8080/"
        },
        "id": "ZRLseIAiRuxn",
        "outputId": "1983c26f-44b1-4f56-caf1-2d6420b46f16"
      },
      "execution_count": 35,
      "outputs": [
        {
          "output_type": "stream",
          "name": "stdout",
          "text": [
            "Python is enjoying\n"
          ]
        }
      ]
    }
  ]
}